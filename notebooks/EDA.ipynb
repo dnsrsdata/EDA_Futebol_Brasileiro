{
 "cells": [
  {
   "attachments": {},
   "cell_type": "markdown",
   "metadata": {},
   "source": [
    "# Brasileirão Série A: O caminho dos campeões\n",
    "Por [Daniel Soares](https://www.linkedin.com/in/daniel-soares-ti/)"
   ]
  },
  {
   "attachments": {},
   "cell_type": "markdown",
   "metadata": {},
   "source": [
    "\n",
    "<div style=\"display:inline-block;vertical-align:top;\">\n",
    "<h2>Sumário:</h2>\n",
    "<ul>\n",
    "    <li><a href=\"#introducao\">Introdução </a></li>\n",
    "    <li><a href=\"#responsabilidade\">Reponsabilidade de cada Cargo</a></li>\n",
    "     <li><a href=\"#tecnicas_metodos\">Técnicas e Métodos</a></li>\n",
    "    <li><a href=\"#ferramentas_servicos\">Ferramentas e Serviços</a></li>\n",
    "    <li><a href=\"#nivel_ensino\">Nível de Ensino</a></li>\n",
    "    <li><a href=\"#faixa_salarial\">Faixal Salárial</a></li>\n",
    "    <li><a href=\"#conclusao\">Conclusão</a></li>\n",
    "     <li><a href=\"#referencias\">Referências</a></li>\n",
    "</ul>\n",
    "</div>\n",
    "<div style=\"display:inline-block; margin-left:50px; margin-top:15px\">\n",
    "<img src=\"https://media.giphy.com/media/xUOxf1JRLpx5wy7UyY/giphy.gif\" style=\"height: 250px; width:400px;\"/>\n",
    "    <div style=\"text-align:center; font-size:12px\"><i>Fonte: <a href=\"https://media.giphy.com/media/xUOxf1JRLpx5wy7UyY/giphy.gif\">Giphy</a></i></div>\n",
    "</div>\n",
    "\n",
    "--------\n"
   ]
  },
  {
   "cell_type": "code",
   "execution_count": 1,
   "metadata": {},
   "outputs": [],
   "source": [
    "import pandas as pd\n",
    "import plotly.express as px"
   ]
  },
  {
   "cell_type": "code",
   "execution_count": 2,
   "metadata": {},
   "outputs": [],
   "source": [
    "# Lendo os dados\n",
    "games_data = pd.read_csv('../data/campeonato-brasileiro-full.csv')"
   ]
  },
  {
   "attachments": {},
   "cell_type": "markdown",
   "metadata": {},
   "source": [
    "<a id='introducao'></a>\n",
    "# Introdução\n",
    "\"O Brasileirão é o campeonato mais difícil do mundo\". Essa é uma frase que você \n",
    "provavelmente já escutou na rua, e que vem provando ser verdadeira. A Federação \n",
    "Internacional de História e Estatísticas do Futebol (IFFHS), organização \n",
    "reconhecida pela FIFA, [publicou](https://www.iffhs.com/posts/2483) no início de \n",
    "2023 um ranking de campeonatos nacionais, e levando em conta fatores como força \n",
    "dos concorrentes e conquistas dos times na temporada, coroou o Brasileirão como \n",
    "o mais difícil do mundo pelo segundo ano consecutivo.\n",
    "\n",
    "Diante disso, chegamos a uma pergunta: Qual o caminho dos campeões? O que um time\n",
    "precisa para conquistar o atual campeonato mais difícil do planeta?\n",
    "\n",
    "<div class=\"alert alert-warning\" role=\"alert\">\n",
    "    <b>Aviso!</b> Foi desconsiderado o Campeonato Brasileiro de 2020.\n",
    "</div>"
   ]
  },
  {
   "cell_type": "code",
   "execution_count": 3,
   "metadata": {},
   "outputs": [],
   "source": [
    "# Para evitar problemas quando for plotar os gráficos, vou alterar o dtype\n",
    "# das colunas que necessitam\n",
    "games_data['data'] = pd.to_datetime(games_data['data'], dayfirst=True)\n",
    "games_data['hora'] = pd.to_datetime(games_data['hora'], format='%H:%M').dt.time\n",
    "\n",
    "# Para separar os campeonatos por ano, irei criar uma coluna com o ano \n",
    "# de cada jogo\n",
    "games_data['ano'] = games_data['data'].dt.year"
   ]
  },
  {
   "cell_type": "code",
   "execution_count": 12,
   "metadata": {},
   "outputs": [
    {
     "data": {
      "text/plain": [
       "ano\n",
       "2003    46\n",
       "2004    46\n",
       "2005    42\n",
       "2006    38\n",
       "2007    38\n",
       "2008    38\n",
       "2009    38\n",
       "2010    38\n",
       "2011    38\n",
       "2012    38\n",
       "2013    38\n",
       "2014    38\n",
       "2015    38\n",
       "2016    38\n",
       "2017    38\n",
       "2018    38\n",
       "2019    38\n",
       "2020    27\n",
       "2021    38\n",
       "2022    38\n",
       "Name: rodata, dtype: int64"
      ]
     },
     "execution_count": 12,
     "metadata": {},
     "output_type": "execute_result"
    }
   ],
   "source": [
    "# Verificando se a quantidade de rodadas está correta\n",
    "games_data.groupby('ano').rodata.nunique()"
   ]
  },
  {
   "attachments": {},
   "cell_type": "markdown",
   "metadata": {},
   "source": [
    "Com excessão do ano de 2020, a quantidade de rodadas por ano está correta. \n",
    "Devido a isso, irei desconsiderar o ano de 2020 na análise."
   ]
  }
 ],
 "metadata": {
  "kernelspec": {
   "display_name": "venv",
   "language": "python",
   "name": "python3"
  },
  "language_info": {
   "codemirror_mode": {
    "name": "ipython",
    "version": 3
   },
   "file_extension": ".py",
   "mimetype": "text/x-python",
   "name": "python",
   "nbconvert_exporter": "python",
   "pygments_lexer": "ipython3",
   "version": "3.10.6"
  },
  "orig_nbformat": 4
 },
 "nbformat": 4,
 "nbformat_minor": 2
}
