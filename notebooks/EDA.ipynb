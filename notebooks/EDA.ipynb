{
 "cells": [
  {
   "attachments": {},
   "cell_type": "markdown",
   "metadata": {},
   "source": [
    "# EDA Título\n",
    "Por [Daniel Soares](https://www.linkedin.com/in/daniel-soares-ti/)"
   ]
  },
  {
   "attachments": {},
   "cell_type": "markdown",
   "metadata": {},
   "source": [
    "\n",
    "<div style=\"display:inline-block;vertical-align:top;\">\n",
    "<h2>Sumário:</h2>\n",
    "<ul>\n",
    "    <li><a href=\"#introducao\">Introdução </a></li>\n",
    "    <li><a href=\"#responsabilidade\">Reponsabilidade de cada Cargo</a></li>\n",
    "     <li><a href=\"#tecnicas_metodos\">Técnicas e Métodos</a></li>\n",
    "    <li><a href=\"#ferramentas_servicos\">Ferramentas e Serviços</a></li>\n",
    "    <li><a href=\"#nivel_ensino\">Nível de Ensino</a></li>\n",
    "    <li><a href=\"#faixa_salarial\">Faixal Salárial</a></li>\n",
    "    <li><a href=\"#conclusao\">Conclusão</a></li>\n",
    "     <li><a href=\"#referencias\">Referências</a></li>\n",
    "</ul>\n",
    "</div>\n",
    "<div style=\"display:inline-block; margin-left:50px; margin-top:15px\">\n",
    "<img src=\"https://64.media.tumblr.com/dab605fd6e051d6c4e799c4071777346/tumblr_pfh032wzTg1wyshclo1_1280.jpg\" style=\"height: 250px; width:400px;\"/>\n",
    "    <div style=\"text-align:center; font-size:12px\"><i>Fonte: <a href=\"https://64.media.tumblr.com/dab605fd6e051d6c4e799c4071777346/tumblr_pfh032wzTg1wyshclo1_1280.jpg\">Tumblr</a> <br> Tradução: este é o sinal que você estava procurando</i></div>\n",
    "</div>\n",
    "\n",
    "--------\n"
   ]
  }
 ],
 "metadata": {
  "kernelspec": {
   "display_name": "venv",
   "language": "python",
   "name": "python3"
  },
  "language_info": {
   "codemirror_mode": {
    "name": "ipython",
    "version": 3
   },
   "file_extension": ".py",
   "mimetype": "text/x-python",
   "name": "python",
   "nbconvert_exporter": "python",
   "pygments_lexer": "ipython3",
   "version": "3.10.6"
  },
  "orig_nbformat": 4
 },
 "nbformat": 4,
 "nbformat_minor": 2
}
