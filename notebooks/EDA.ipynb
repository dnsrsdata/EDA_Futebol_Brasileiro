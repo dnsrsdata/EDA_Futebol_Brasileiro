{
 "cells": [
  {
   "attachments": {},
   "cell_type": "markdown",
   "metadata": {},
   "source": [
    "# Brasileirão Série A: O caminho dos campeões\n",
    "Por [Daniel Soares](https://www.linkedin.com/in/daniel-soares-ti/)"
   ]
  },
  {
   "attachments": {},
   "cell_type": "markdown",
   "metadata": {},
   "source": [
    "\n",
    "<div style=\"display:inline-block;vertical-align:top;\">\n",
    "<h2>Sumário:</h2>\n",
    "<ul>\n",
    "    <li><a href=\"#introducao\">Introdução </a></li>\n",
    "    <li><a href=\"#maior-campeao\">Maiores campeões</a></li>\n",
    "    <li><a href=\"#melhor-pior\">Melhor e \"pior\" campeão</a></li>\n",
    "    <li><a href=\"#ano-competitivo\">Competitividade durante os anos</a></li>\n",
    "    <li><a href=\"#tecnicas_metodos\">Algum time venceu anos consecutivos?</a></li>\n",
    "\n",
    "</ul>\n",
    "</div>\n",
    "<div style=\"display:inline-block; margin-left:50px; margin-top:15px\">\n",
    "<img src=\"https://media.giphy.com/media/xUOxf1JRLpx5wy7UyY/giphy.gif\" style=\"height: 230px; width:370px;\"/>\n",
    "    <div style=\"text-align:center; font-size:12px\"><i>Fonte: <a href=\"https://media.giphy.com/media/xUOxf1JRLpx5wy7UyY/giphy.gif\">Giphy</a></i></div>\n",
    "</div>\n",
    "\n",
    "--------\n"
   ]
  },
  {
   "cell_type": "code",
   "execution_count": 2,
   "metadata": {},
   "outputs": [],
   "source": [
    "import pandas as pd\n",
    "import plotly.express as px\n",
    "\n",
    "# Lendo os dados\n",
    "games_data = pd.read_csv('../data/campeonato-brasileiro-full.csv')"
   ]
  },
  {
   "cell_type": "code",
   "execution_count": 3,
   "metadata": {},
   "outputs": [],
   "source": [
    "def corrigir_indexes_e_colunas_tabela(dataframe):\n",
    "    \"\"\"Corrige indexes e colunas do dataframe\n",
    "\n",
    "    Args:\n",
    "        dataframe (pd.Dataframe): Dataframe com os jogos\n",
    "\n",
    "    Returns:\n",
    "        pd.Dataframe: Dataframe com os indexes e colunas corrigidos\n",
    "    \"\"\"\n",
    "    dataframe = dataframe.reset_index()\n",
    "    dataframe = dataframe.set_index(pd.Index(range(1, dataframe.shape[0] + 1)))\n",
    "    dataframe = dataframe.rename(columns={'vencedor': 'times', \n",
    "                                          'count': 'pontos'})\n",
    "    \n",
    "    return dataframe\n",
    "\n",
    "def inserir_ano_do_titulo(dataframe_pontos, ano):\n",
    "    \"\"\"Insere o ano da conquista no\n",
    "\n",
    "    Args:\n",
    "        dataframe_pontos (pd.DataFrame): tabela com a classificação\n",
    "        ano (int): ano para inserir\n",
    "        \n",
    "    Returns:\n",
    "        pd.DataFrame: tabela com o ano da conquista inserido\n",
    "    \"\"\"\n",
    "    dataframe_pontos['ano'] = ano\n",
    "    \n",
    "    return dataframe_pontos\n",
    "\n",
    "def calcular_distancia_segundo_colocado(dataframe_pontos):\n",
    "    \"\"\"Calcula a diferença de pontos entre o primeiro e o segundo colocado\n",
    "\n",
    "    Args:\n",
    "        dataframe_pontos (pd.DataFrame): tabela com a classificação\n",
    "\n",
    "    Returns:\n",
    "        pd.DataFrame: tabela com a diferença de pontos calculada\n",
    "    \"\"\"\n",
    "    dataframe_pontos['distancia_segundo_colocado'] = dataframe_pontos.iloc[0][1]\\\n",
    "        - dataframe_pontos.iloc[1][1]\n",
    "        \n",
    "    return dataframe_pontos\n",
    "\n",
    "def calcular_pontos_de_vitoria(dataframe_original, ano):\n",
    "    \"\"\"Calcula a pontuação inicial dos times com base em suas vitórias\n",
    "\n",
    "    Args:\n",
    "        dataframe_original (pd.Dataframe): Dataframe com os jogos\n",
    "        ano (int): ano do campeonato\n",
    "\n",
    "    Returns:\n",
    "        pd.Dataframe: Dataframe com os pontos iniciais calculados\n",
    "    \"\"\"\n",
    "    tabela_campeonato = dataframe_original.query(f'ano == {ano}').vencedor\\\n",
    "        .value_counts()[1:].to_frame()\n",
    "    tabela_campeonato = tabela_campeonato * 3\n",
    "    \n",
    "    return tabela_campeonato\n",
    "\n",
    "def adicionar_pontos_empate(dataframe_original, dataframe_pontos, ano):\n",
    "    \"\"\"Adiciona pontos para os jogos que terminaram empatados\n",
    "\n",
    "    Args:\n",
    "        dataframe (pd.Dataframe): dataframe com os jogos\n",
    "        dataframe_pontos (pd.Dataframe): dataframe com os pontos iniciais\n",
    "        ano (int): ano do campeonato\n",
    "\n",
    "    Returns:\n",
    "        pd.Dataframe: dataframe com os pontos de empate inseridos\n",
    "    \"\"\"\n",
    "    for time in dataframe_original.query(f\"ano == {ano} and vencedor =='-'\")\\\n",
    "        .mandante:\n",
    "        dataframe_pontos.loc[time] = dataframe_pontos.loc[time] + 1\n",
    "        \n",
    "    for time in dataframe_original.query(f\"ano == {ano} and vencedor =='-'\")\\\n",
    "        .visitante:\n",
    "        dataframe_pontos.loc[time] = dataframe_pontos.loc[time] + 1\n",
    "    \n",
    "    return dataframe_pontos\n",
    "\n",
    "def aplicar_punicoes_2003(tabela_de_classificacao):\n",
    "    \"\"\"Aplica as punições de perda de pontos referente ao ano de 2003\n",
    "\n",
    "    Args:\n",
    "        tabela_de_classificacao (pd.DataFrame): tabela com a classificação\n",
    "        \n",
    "    Returns:\n",
    "        pd.DataFrame: tabela com as punições aplicadas\n",
    "    \"\"\"\n",
    "    tabela_de_classificacao.loc['Ponte Preta'] = tabela_de_classificacao\\\n",
    "        .loc['Ponte Preta'] - 1\n",
    "    tabela_de_classificacao.loc['Internacional'] = tabela_de_classificacao\\\n",
    "        .loc['Internacional'] + 2\n",
    "    tabela_de_classificacao.loc['Juventude'] = tabela_de_classificacao\\\n",
    "        .loc['Juventude'] + 3\n",
    "    tabela_de_classificacao.loc['Paysandu'] = tabela_de_classificacao\\\n",
    "        .loc['Paysandu'] - 8\n",
    "    tabela_de_classificacao.loc['Sao Caetano'] = tabela_de_classificacao\\\n",
    "        .loc['Sao Caetano'] + 3\n",
    "    tabela_de_classificacao.loc['Corinthians'] = tabela_de_classificacao\\\n",
    "        .loc['Corinthians'] + 2\n",
    "    tabela_de_classificacao.loc['Fluminense'] = tabela_de_classificacao\\\n",
    "        .loc['Fluminense'] + 2\n",
    "        \n",
    "    return tabela_de_classificacao\n",
    "\n",
    "def aplicar_punicoes_2004(tabela_de_classificacao):\n",
    "    \"\"\"Aplica as punições de perda de pontos referente ao ano de 2004\n",
    "\n",
    "    Args:\n",
    "        tabela_de_classificacao (pd.DataFrame): tabela com a classificação\n",
    "    \n",
    "    Returns:\n",
    "        pd.DataFrame: tabela com as punições aplicadas\n",
    "    \"\"\"\n",
    "    tabela_de_classificacao.loc['Sao Caetano'] = tabela_de_classificacao\\\n",
    "        .loc['Sao Caetano'] - 24\n",
    "        \n",
    "    return tabela_de_classificacao\n",
    "    \n",
    "\n",
    "def aplicar_punicoes_2010(tabela_de_classificacao):\n",
    "    \"\"\"Aplica as punições de perda de pontos referente ao ano de 2010\n",
    "\n",
    "    Args:\n",
    "        tabela_de_classificacao (pd.DataFrame): tabela com a classificação\n",
    "\n",
    "    Returns:\n",
    "        pd.DataFrame: tabela com as punições aplicadas\n",
    "    \"\"\"\n",
    "    tabela_de_classificacao.loc['Gremio Prudente'] = tabela_de_classificacao\\\n",
    "        .loc['Gremio Prudente'] - 3\n",
    "    \n",
    "    return tabela_de_classificacao\n",
    "\n",
    "def aplicar_punicoes_2013(tabela_de_classificacao):\n",
    "    \"\"\"Aplica as punições de perda de pontos referente ao ano de 2013\n",
    "\n",
    "    Args:\n",
    "        tabela_de_classificacao (pd.DataFrame): tabela com a classificação\n",
    "\n",
    "    Returns:\n",
    "        pd.DataFrame: tabela com as punições aplicadas\n",
    "    \"\"\"\n",
    "    tabela_de_classificacao.loc['Flamengo'] = tabela_de_classificacao\\\n",
    "        .loc['Flamengo'] - 4\n",
    "    tabela_de_classificacao.loc['Portuguesa'] = tabela_de_classificacao\\\n",
    "        .loc['Portuguesa'] - 4\n",
    "    \n",
    "    return tabela_de_classificacao\n",
    "\n",
    "def aplicar_punicoes_2016(tabela_de_classificacao):\n",
    "    \"\"\"Aplica as punições de perda de pontos referente ao ano de 2016\n",
    "\n",
    "    Args:\n",
    "        tabela_de_classificacao (pd.DataFrame): tabela com a classificação\n",
    "\n",
    "    Returns:\n",
    "        pd.DataFrame: tabela com as punições aplicadas\n",
    "    \"\"\"\n",
    "    tabela_de_classificacao.loc['Santa Cruz'] = tabela_de_classificacao\\\n",
    "        .loc['Santa Cruz'] - 3\n",
    "    \n",
    "    return tabela_de_classificacao\n",
    "\n",
    "def aplicar_punicoes_2018(tabela_de_classificacao):\n",
    "    \"\"\"Aplica as punições de perda de pontos referente ao ano de 2018\n",
    "\n",
    "    Args:\n",
    "        tabela_de_classificacao (pd.DataFrame): tabela com a classificação\n",
    "\n",
    "    Returns:\n",
    "        pd.DataFrame: tabela com as punições aplicadas\n",
    "    \"\"\"\n",
    "    tabela_de_classificacao.loc['Sport'] = tabela_de_classificacao\\\n",
    "        .loc['Sport'] - 3\n",
    "    \n",
    "    return tabela_de_classificacao\n",
    "\n",
    "def buscar_campeoes(classificacao, lista_de_anos):\n",
    "    \"\"\"Busca os campeões de cada ano\n",
    "\n",
    "    Args:\n",
    "        classificacao (dict): Dicionário contendo as classificações de cada ano\n",
    "        lista_de_anos (list): lista contendo os anos que serão buscados\n",
    "\n",
    "    Returns:\n",
    "        pd.DataFrame: tabela com os campeões de cada ano\n",
    "    \"\"\"\n",
    "    tabela_campeoes = pd.DataFrame()\n",
    "    for ano in lista_de_anos:\n",
    "        tabela_campeoes = pd.concat([tabela_campeoes, \n",
    "                                     classificacao[ano].iloc[0, :].to_frame().T]\n",
    "                                    )\n",
    "    \n",
    "    return tabela_campeoes"
   ]
  },
  {
   "attachments": {},
   "cell_type": "markdown",
   "metadata": {},
   "source": [
    "<a id='introducao'></a>\n",
    "# Introdução\n",
    "\"O Brasileirão é o campeonato mais difícil do mundo\". Essa é uma frase que você \n",
    "provavelmente já escutou na rua, e que vem provando ser verdadeira. A Federação \n",
    "Internacional de História e Estatísticas do Futebol (IFFHS), organização \n",
    "reconhecida pela FIFA, [publicou](https://www.iffhs.com/posts/2483) no início de \n",
    "2023 um ranking de campeonatos nacionais, e levando em conta fatores como força \n",
    "dos concorrentes e conquistas dos times na temporada, coroou o Brasileirão como \n",
    "o mais difícil do mundo pelo segundo ano consecutivo.\n",
    "\n",
    "Diante disso, chegamos a uma pergunta: Qual o caminho dos campeões? O que um time\n",
    "precisa para conquistar o atual campeonato mais difícil do planeta?\n",
    "\n",
    "<div class=\"alert alert-warning\" role=\"alert\">\n",
    "    <b>Aviso!</b> Esta análise não irá considerar os títulos anteriores ao ano \n",
    "    de 2003.\n",
    "</div>"
   ]
  },
  {
   "cell_type": "code",
   "execution_count": 4,
   "metadata": {},
   "outputs": [],
   "source": [
    "# Para evitar problemas quando for plotar os gráficos, vou alterar o dtype\n",
    "# das colunas que necessitam\n",
    "games_data['data'] = pd.to_datetime(games_data['data'], dayfirst=True)\n",
    "games_data['hora'] = pd.to_datetime(games_data['hora'], format='%H:%M').dt.time\n",
    "\n",
    "# Para separar os campeonatos por ano, irei criar uma coluna com o ano \n",
    "# de cada jogo. Aqui, irei alterar manualmente os anos de 2020 e 2021, que \n",
    "# possuem rodadas de campeonatos diferentes devido a pandemia\n",
    "games_data['ano'] = games_data['data'].dt.year\n",
    "\n",
    "indexes_rodadas_2020 = games_data\\\n",
    "    .query(\"data > '2020-08-01' and data < '2021-03-01'\").index\n",
    "    \n",
    "games_data.iloc[indexes_rodadas_2020, -1] = 2020\n"
   ]
  },
  {
   "cell_type": "code",
   "execution_count": 7,
   "metadata": {},
   "outputs": [],
   "source": [
    "# Para gerar as classificações de forma correta, terei que separar os anos\n",
    "# que tiveram punições e os que não tiveram para então usar as funções\n",
    "\n",
    "anos_sem_punicao = [2005, 2006, 2007, 2008, 2009, 2011, 2012, 2014, 2015, 2017, \n",
    "                    2019, 2020, 2021, 2022]\n",
    "\n",
    "anos_com_punicao = [2003, 2004, 2010, 2013, 2016, 2018]\n",
    "\n",
    "classificacao = {}\n",
    "\n",
    "# Para os anos sem punição, irei usar as funções criadas para calcular os pontos\n",
    "\n",
    "for ano in anos_sem_punicao:\n",
    "    classificacao[ano] = calcular_pontos_de_vitoria(games_data, ano)\n",
    "    \n",
    "    classificacao[ano] = adicionar_pontos_empate(games_data, classificacao[ano], \n",
    "                                                 ano)\n",
    "    \n",
    "    classificacao[ano] = classificacao[ano].sort_values(by='count',\n",
    "                                                          ascending=False)\n",
    "    \n",
    "    classificacao[ano] = corrigir_indexes_e_colunas_tabela(classificacao[ano])\n",
    "    \n",
    "    classificacao[ano] = inserir_ano_do_titulo(classificacao[ano], ano)\n",
    "    \n",
    "    classificacao[ano] = calcular_distancia_segundo_colocado(classificacao[ano])\n",
    "    \n",
    "# Para os anos com punição, irei calcular as pontuações e após isso aplicar as\n",
    "# punições\n",
    "\n",
    "for ano in anos_com_punicao:\n",
    "    classificacao[ano] = calcular_pontos_de_vitoria(games_data, ano)\n",
    "    \n",
    "    classificacao[ano] = adicionar_pontos_empate(games_data, classificacao[ano],\n",
    "                                                 ano)\n",
    "\n",
    "classificacao[2003] = aplicar_punicoes_2003(classificacao[2003])\n",
    "\n",
    "classificacao[2004] = aplicar_punicoes_2004(classificacao[2004])\n",
    "\n",
    "classificacao[2010] = aplicar_punicoes_2010(classificacao[2010])\n",
    "\n",
    "classificacao[2013] = aplicar_punicoes_2013(classificacao[2013])\n",
    "\n",
    "classificacao[2016] = aplicar_punicoes_2016(classificacao[2016])\n",
    "\n",
    "classificacao[2018] = aplicar_punicoes_2018(classificacao[2018])\n",
    "\n",
    "for ano in anos_com_punicao:\n",
    "    classificacao[ano] = classificacao[ano].sort_values(by='count',\n",
    "                                                        ascending=False)\n",
    "    \n",
    "    classificacao[ano] = corrigir_indexes_e_colunas_tabela(classificacao[ano])\n",
    "    \n",
    "    classificacao[ano] = inserir_ano_do_titulo(classificacao[ano], ano)\n",
    "    \n",
    "    classificacao[ano] = calcular_distancia_segundo_colocado(classificacao[ano])\n",
    "    \n",
    "# Com as tabelas prontas, basta unir todos os anos em uma lista para então\n",
    "# buscar os campeões de cada ano\n",
    "    \n",
    "anos = anos_sem_punicao + anos_com_punicao\n",
    "    \n",
    "tabela_times_campeoes = buscar_campeoes(classificacao, sorted(anos))\n",
    "\n",
    "# E por último, irei criar uma função para rotular os anos com formatos de \n",
    "# competição diferentes, onde houve um número maior de times participantes do\n",
    "# que o formato atual, de 20 times\n",
    "\n",
    "func_inserir_formato = lambda ano: 'Formato antigo' if ano in [2003, 2004, 2005]\\\n",
    "    else 'Formato atual'\n",
    "\n",
    "tabela_times_campeoes['formato'] = tabela_times_campeoes['ano']\\\n",
    "    .apply(func_inserir_formato)\n",
    "\n",
    "    "
   ]
  },
  {
   "cell_type": "code",
   "execution_count": 17,
   "metadata": {},
   "outputs": [
    {
     "data": {
      "text/html": [
       "<div>\n",
       "<style scoped>\n",
       "    .dataframe tbody tr th:only-of-type {\n",
       "        vertical-align: middle;\n",
       "    }\n",
       "\n",
       "    .dataframe tbody tr th {\n",
       "        vertical-align: top;\n",
       "    }\n",
       "\n",
       "    .dataframe thead th {\n",
       "        text-align: right;\n",
       "    }\n",
       "</style>\n",
       "<table border=\"1\" class=\"dataframe\">\n",
       "  <thead>\n",
       "    <tr style=\"text-align: right;\">\n",
       "      <th></th>\n",
       "      <th>times</th>\n",
       "      <th>pontos</th>\n",
       "      <th>ano</th>\n",
       "      <th>distancia_segundo_colocado</th>\n",
       "      <th>formato</th>\n",
       "    </tr>\n",
       "  </thead>\n",
       "  <tbody>\n",
       "    <tr>\n",
       "      <th>1</th>\n",
       "      <td>Cruzeiro</td>\n",
       "      <td>100</td>\n",
       "      <td>2003</td>\n",
       "      <td>13</td>\n",
       "      <td>Formato antigo</td>\n",
       "    </tr>\n",
       "    <tr>\n",
       "      <th>1</th>\n",
       "      <td>Santos</td>\n",
       "      <td>89</td>\n",
       "      <td>2004</td>\n",
       "      <td>3</td>\n",
       "      <td>Formato antigo</td>\n",
       "    </tr>\n",
       "    <tr>\n",
       "      <th>1</th>\n",
       "      <td>Corinthians</td>\n",
       "      <td>81</td>\n",
       "      <td>2005</td>\n",
       "      <td>3</td>\n",
       "      <td>Formato antigo</td>\n",
       "    </tr>\n",
       "    <tr>\n",
       "      <th>1</th>\n",
       "      <td>Sao Paulo</td>\n",
       "      <td>78</td>\n",
       "      <td>2006</td>\n",
       "      <td>9</td>\n",
       "      <td>Formato atual</td>\n",
       "    </tr>\n",
       "    <tr>\n",
       "      <th>1</th>\n",
       "      <td>Sao Paulo</td>\n",
       "      <td>77</td>\n",
       "      <td>2007</td>\n",
       "      <td>15</td>\n",
       "      <td>Formato atual</td>\n",
       "    </tr>\n",
       "    <tr>\n",
       "      <th>1</th>\n",
       "      <td>Sao Paulo</td>\n",
       "      <td>75</td>\n",
       "      <td>2008</td>\n",
       "      <td>3</td>\n",
       "      <td>Formato atual</td>\n",
       "    </tr>\n",
       "    <tr>\n",
       "      <th>1</th>\n",
       "      <td>Flamengo</td>\n",
       "      <td>67</td>\n",
       "      <td>2009</td>\n",
       "      <td>2</td>\n",
       "      <td>Formato atual</td>\n",
       "    </tr>\n",
       "    <tr>\n",
       "      <th>1</th>\n",
       "      <td>Fluminense</td>\n",
       "      <td>71</td>\n",
       "      <td>2010</td>\n",
       "      <td>2</td>\n",
       "      <td>Formato atual</td>\n",
       "    </tr>\n",
       "    <tr>\n",
       "      <th>1</th>\n",
       "      <td>Corinthians</td>\n",
       "      <td>71</td>\n",
       "      <td>2011</td>\n",
       "      <td>2</td>\n",
       "      <td>Formato atual</td>\n",
       "    </tr>\n",
       "    <tr>\n",
       "      <th>1</th>\n",
       "      <td>Fluminense</td>\n",
       "      <td>77</td>\n",
       "      <td>2012</td>\n",
       "      <td>5</td>\n",
       "      <td>Formato atual</td>\n",
       "    </tr>\n",
       "    <tr>\n",
       "      <th>1</th>\n",
       "      <td>Cruzeiro</td>\n",
       "      <td>76</td>\n",
       "      <td>2013</td>\n",
       "      <td>11</td>\n",
       "      <td>Formato atual</td>\n",
       "    </tr>\n",
       "    <tr>\n",
       "      <th>1</th>\n",
       "      <td>Cruzeiro</td>\n",
       "      <td>80</td>\n",
       "      <td>2014</td>\n",
       "      <td>10</td>\n",
       "      <td>Formato atual</td>\n",
       "    </tr>\n",
       "    <tr>\n",
       "      <th>1</th>\n",
       "      <td>Corinthians</td>\n",
       "      <td>81</td>\n",
       "      <td>2015</td>\n",
       "      <td>12</td>\n",
       "      <td>Formato atual</td>\n",
       "    </tr>\n",
       "    <tr>\n",
       "      <th>1</th>\n",
       "      <td>Palmeiras</td>\n",
       "      <td>80</td>\n",
       "      <td>2016</td>\n",
       "      <td>9</td>\n",
       "      <td>Formato atual</td>\n",
       "    </tr>\n",
       "    <tr>\n",
       "      <th>1</th>\n",
       "      <td>Corinthians</td>\n",
       "      <td>72</td>\n",
       "      <td>2017</td>\n",
       "      <td>9</td>\n",
       "      <td>Formato atual</td>\n",
       "    </tr>\n",
       "    <tr>\n",
       "      <th>1</th>\n",
       "      <td>Palmeiras</td>\n",
       "      <td>80</td>\n",
       "      <td>2018</td>\n",
       "      <td>8</td>\n",
       "      <td>Formato atual</td>\n",
       "    </tr>\n",
       "    <tr>\n",
       "      <th>1</th>\n",
       "      <td>Flamengo</td>\n",
       "      <td>90</td>\n",
       "      <td>2019</td>\n",
       "      <td>16</td>\n",
       "      <td>Formato atual</td>\n",
       "    </tr>\n",
       "    <tr>\n",
       "      <th>1</th>\n",
       "      <td>Flamengo</td>\n",
       "      <td>71</td>\n",
       "      <td>2020</td>\n",
       "      <td>1</td>\n",
       "      <td>Formato atual</td>\n",
       "    </tr>\n",
       "    <tr>\n",
       "      <th>1</th>\n",
       "      <td>Atletico-MG</td>\n",
       "      <td>84</td>\n",
       "      <td>2021</td>\n",
       "      <td>13</td>\n",
       "      <td>Formato atual</td>\n",
       "    </tr>\n",
       "    <tr>\n",
       "      <th>1</th>\n",
       "      <td>Palmeiras</td>\n",
       "      <td>81</td>\n",
       "      <td>2022</td>\n",
       "      <td>8</td>\n",
       "      <td>Formato atual</td>\n",
       "    </tr>\n",
       "  </tbody>\n",
       "</table>\n",
       "</div>"
      ],
      "text/plain": [
       "         times pontos   ano distancia_segundo_colocado         formato\n",
       "1     Cruzeiro    100  2003                         13  Formato antigo\n",
       "1       Santos     89  2004                          3  Formato antigo\n",
       "1  Corinthians     81  2005                          3  Formato antigo\n",
       "1    Sao Paulo     78  2006                          9   Formato atual\n",
       "1    Sao Paulo     77  2007                         15   Formato atual\n",
       "1    Sao Paulo     75  2008                          3   Formato atual\n",
       "1     Flamengo     67  2009                          2   Formato atual\n",
       "1   Fluminense     71  2010                          2   Formato atual\n",
       "1  Corinthians     71  2011                          2   Formato atual\n",
       "1   Fluminense     77  2012                          5   Formato atual\n",
       "1     Cruzeiro     76  2013                         11   Formato atual\n",
       "1     Cruzeiro     80  2014                         10   Formato atual\n",
       "1  Corinthians     81  2015                         12   Formato atual\n",
       "1    Palmeiras     80  2016                          9   Formato atual\n",
       "1  Corinthians     72  2017                          9   Formato atual\n",
       "1    Palmeiras     80  2018                          8   Formato atual\n",
       "1     Flamengo     90  2019                         16   Formato atual\n",
       "1     Flamengo     71  2020                          1   Formato atual\n",
       "1  Atletico-MG     84  2021                         13   Formato atual\n",
       "1    Palmeiras     81  2022                          8   Formato atual"
      ]
     },
     "execution_count": 17,
     "metadata": {},
     "output_type": "execute_result"
    }
   ],
   "source": [
    "tabela_times_campeoes"
   ]
  },
  {
   "attachments": {},
   "cell_type": "markdown",
   "metadata": {},
   "source": [
    "<a id='maior-campeao'></a>\n",
    "# Maiores campeões\n"
   ]
  },
  {
   "cell_type": "code",
   "execution_count": 12,
   "metadata": {},
   "outputs": [
    {
     "data": {
      "application/vnd.plotly.v1+json": {
       "config": {
        "plotlyServerURL": "https://plot.ly"
       },
       "data": [
        {
         "branchvalues": "total",
         "domain": {
          "x": [
           0,
           1
          ],
          "y": [
           0,
           1
          ]
         },
         "hovertemplate": "labels=%{label}<br>títulos=%{value}<br>parent=%{parent}<br>id=%{id}<extra></extra>",
         "ids": [
          "Atletico-MG/1",
          "Santos/1",
          "Fluminense/2",
          "Cruzeiro/3",
          "Flamengo/3",
          "Palmeiras/3",
          "Sao Paulo/3",
          "Corinthians/4",
          "Atletico-MG",
          "Corinthians",
          "Cruzeiro",
          "Flamengo",
          "Fluminense",
          "Palmeiras",
          "Santos",
          "Sao Paulo"
         ],
         "labels": [
          "1",
          "1",
          "2",
          "3",
          "3",
          "3",
          "3",
          "4",
          "Atletico-MG",
          "Corinthians",
          "Cruzeiro",
          "Flamengo",
          "Fluminense",
          "Palmeiras",
          "Santos",
          "Sao Paulo"
         ],
         "name": "",
         "parents": [
          "Atletico-MG",
          "Santos",
          "Fluminense",
          "Cruzeiro",
          "Flamengo",
          "Palmeiras",
          "Sao Paulo",
          "Corinthians",
          "",
          "",
          "",
          "",
          "",
          "",
          "",
          ""
         ],
         "type": "treemap",
         "values": [
          1,
          1,
          2,
          3,
          3,
          3,
          3,
          4,
          1,
          4,
          3,
          3,
          2,
          3,
          1,
          3
         ]
        }
       ],
       "layout": {
        "legend": {
         "tracegroupgap": 0
        },
        "margin": {
         "t": 60
        },
        "template": {
         "data": {
          "bar": [
           {
            "error_x": {
             "color": "#2a3f5f"
            },
            "error_y": {
             "color": "#2a3f5f"
            },
            "marker": {
             "line": {
              "color": "#E5ECF6",
              "width": 0.5
             },
             "pattern": {
              "fillmode": "overlay",
              "size": 10,
              "solidity": 0.2
             }
            },
            "type": "bar"
           }
          ],
          "barpolar": [
           {
            "marker": {
             "line": {
              "color": "#E5ECF6",
              "width": 0.5
             },
             "pattern": {
              "fillmode": "overlay",
              "size": 10,
              "solidity": 0.2
             }
            },
            "type": "barpolar"
           }
          ],
          "carpet": [
           {
            "aaxis": {
             "endlinecolor": "#2a3f5f",
             "gridcolor": "white",
             "linecolor": "white",
             "minorgridcolor": "white",
             "startlinecolor": "#2a3f5f"
            },
            "baxis": {
             "endlinecolor": "#2a3f5f",
             "gridcolor": "white",
             "linecolor": "white",
             "minorgridcolor": "white",
             "startlinecolor": "#2a3f5f"
            },
            "type": "carpet"
           }
          ],
          "choropleth": [
           {
            "colorbar": {
             "outlinewidth": 0,
             "ticks": ""
            },
            "type": "choropleth"
           }
          ],
          "contour": [
           {
            "colorbar": {
             "outlinewidth": 0,
             "ticks": ""
            },
            "colorscale": [
             [
              0,
              "#0d0887"
             ],
             [
              0.1111111111111111,
              "#46039f"
             ],
             [
              0.2222222222222222,
              "#7201a8"
             ],
             [
              0.3333333333333333,
              "#9c179e"
             ],
             [
              0.4444444444444444,
              "#bd3786"
             ],
             [
              0.5555555555555556,
              "#d8576b"
             ],
             [
              0.6666666666666666,
              "#ed7953"
             ],
             [
              0.7777777777777778,
              "#fb9f3a"
             ],
             [
              0.8888888888888888,
              "#fdca26"
             ],
             [
              1,
              "#f0f921"
             ]
            ],
            "type": "contour"
           }
          ],
          "contourcarpet": [
           {
            "colorbar": {
             "outlinewidth": 0,
             "ticks": ""
            },
            "type": "contourcarpet"
           }
          ],
          "heatmap": [
           {
            "colorbar": {
             "outlinewidth": 0,
             "ticks": ""
            },
            "colorscale": [
             [
              0,
              "#0d0887"
             ],
             [
              0.1111111111111111,
              "#46039f"
             ],
             [
              0.2222222222222222,
              "#7201a8"
             ],
             [
              0.3333333333333333,
              "#9c179e"
             ],
             [
              0.4444444444444444,
              "#bd3786"
             ],
             [
              0.5555555555555556,
              "#d8576b"
             ],
             [
              0.6666666666666666,
              "#ed7953"
             ],
             [
              0.7777777777777778,
              "#fb9f3a"
             ],
             [
              0.8888888888888888,
              "#fdca26"
             ],
             [
              1,
              "#f0f921"
             ]
            ],
            "type": "heatmap"
           }
          ],
          "heatmapgl": [
           {
            "colorbar": {
             "outlinewidth": 0,
             "ticks": ""
            },
            "colorscale": [
             [
              0,
              "#0d0887"
             ],
             [
              0.1111111111111111,
              "#46039f"
             ],
             [
              0.2222222222222222,
              "#7201a8"
             ],
             [
              0.3333333333333333,
              "#9c179e"
             ],
             [
              0.4444444444444444,
              "#bd3786"
             ],
             [
              0.5555555555555556,
              "#d8576b"
             ],
             [
              0.6666666666666666,
              "#ed7953"
             ],
             [
              0.7777777777777778,
              "#fb9f3a"
             ],
             [
              0.8888888888888888,
              "#fdca26"
             ],
             [
              1,
              "#f0f921"
             ]
            ],
            "type": "heatmapgl"
           }
          ],
          "histogram": [
           {
            "marker": {
             "pattern": {
              "fillmode": "overlay",
              "size": 10,
              "solidity": 0.2
             }
            },
            "type": "histogram"
           }
          ],
          "histogram2d": [
           {
            "colorbar": {
             "outlinewidth": 0,
             "ticks": ""
            },
            "colorscale": [
             [
              0,
              "#0d0887"
             ],
             [
              0.1111111111111111,
              "#46039f"
             ],
             [
              0.2222222222222222,
              "#7201a8"
             ],
             [
              0.3333333333333333,
              "#9c179e"
             ],
             [
              0.4444444444444444,
              "#bd3786"
             ],
             [
              0.5555555555555556,
              "#d8576b"
             ],
             [
              0.6666666666666666,
              "#ed7953"
             ],
             [
              0.7777777777777778,
              "#fb9f3a"
             ],
             [
              0.8888888888888888,
              "#fdca26"
             ],
             [
              1,
              "#f0f921"
             ]
            ],
            "type": "histogram2d"
           }
          ],
          "histogram2dcontour": [
           {
            "colorbar": {
             "outlinewidth": 0,
             "ticks": ""
            },
            "colorscale": [
             [
              0,
              "#0d0887"
             ],
             [
              0.1111111111111111,
              "#46039f"
             ],
             [
              0.2222222222222222,
              "#7201a8"
             ],
             [
              0.3333333333333333,
              "#9c179e"
             ],
             [
              0.4444444444444444,
              "#bd3786"
             ],
             [
              0.5555555555555556,
              "#d8576b"
             ],
             [
              0.6666666666666666,
              "#ed7953"
             ],
             [
              0.7777777777777778,
              "#fb9f3a"
             ],
             [
              0.8888888888888888,
              "#fdca26"
             ],
             [
              1,
              "#f0f921"
             ]
            ],
            "type": "histogram2dcontour"
           }
          ],
          "mesh3d": [
           {
            "colorbar": {
             "outlinewidth": 0,
             "ticks": ""
            },
            "type": "mesh3d"
           }
          ],
          "parcoords": [
           {
            "line": {
             "colorbar": {
              "outlinewidth": 0,
              "ticks": ""
             }
            },
            "type": "parcoords"
           }
          ],
          "pie": [
           {
            "automargin": true,
            "type": "pie"
           }
          ],
          "scatter": [
           {
            "fillpattern": {
             "fillmode": "overlay",
             "size": 10,
             "solidity": 0.2
            },
            "type": "scatter"
           }
          ],
          "scatter3d": [
           {
            "line": {
             "colorbar": {
              "outlinewidth": 0,
              "ticks": ""
             }
            },
            "marker": {
             "colorbar": {
              "outlinewidth": 0,
              "ticks": ""
             }
            },
            "type": "scatter3d"
           }
          ],
          "scattercarpet": [
           {
            "marker": {
             "colorbar": {
              "outlinewidth": 0,
              "ticks": ""
             }
            },
            "type": "scattercarpet"
           }
          ],
          "scattergeo": [
           {
            "marker": {
             "colorbar": {
              "outlinewidth": 0,
              "ticks": ""
             }
            },
            "type": "scattergeo"
           }
          ],
          "scattergl": [
           {
            "marker": {
             "colorbar": {
              "outlinewidth": 0,
              "ticks": ""
             }
            },
            "type": "scattergl"
           }
          ],
          "scattermapbox": [
           {
            "marker": {
             "colorbar": {
              "outlinewidth": 0,
              "ticks": ""
             }
            },
            "type": "scattermapbox"
           }
          ],
          "scatterpolar": [
           {
            "marker": {
             "colorbar": {
              "outlinewidth": 0,
              "ticks": ""
             }
            },
            "type": "scatterpolar"
           }
          ],
          "scatterpolargl": [
           {
            "marker": {
             "colorbar": {
              "outlinewidth": 0,
              "ticks": ""
             }
            },
            "type": "scatterpolargl"
           }
          ],
          "scatterternary": [
           {
            "marker": {
             "colorbar": {
              "outlinewidth": 0,
              "ticks": ""
             }
            },
            "type": "scatterternary"
           }
          ],
          "surface": [
           {
            "colorbar": {
             "outlinewidth": 0,
             "ticks": ""
            },
            "colorscale": [
             [
              0,
              "#0d0887"
             ],
             [
              0.1111111111111111,
              "#46039f"
             ],
             [
              0.2222222222222222,
              "#7201a8"
             ],
             [
              0.3333333333333333,
              "#9c179e"
             ],
             [
              0.4444444444444444,
              "#bd3786"
             ],
             [
              0.5555555555555556,
              "#d8576b"
             ],
             [
              0.6666666666666666,
              "#ed7953"
             ],
             [
              0.7777777777777778,
              "#fb9f3a"
             ],
             [
              0.8888888888888888,
              "#fdca26"
             ],
             [
              1,
              "#f0f921"
             ]
            ],
            "type": "surface"
           }
          ],
          "table": [
           {
            "cells": {
             "fill": {
              "color": "#EBF0F8"
             },
             "line": {
              "color": "white"
             }
            },
            "header": {
             "fill": {
              "color": "#C8D4E3"
             },
             "line": {
              "color": "white"
             }
            },
            "type": "table"
           }
          ]
         },
         "layout": {
          "annotationdefaults": {
           "arrowcolor": "#2a3f5f",
           "arrowhead": 0,
           "arrowwidth": 1
          },
          "autotypenumbers": "strict",
          "coloraxis": {
           "colorbar": {
            "outlinewidth": 0,
            "ticks": ""
           }
          },
          "colorscale": {
           "diverging": [
            [
             0,
             "#8e0152"
            ],
            [
             0.1,
             "#c51b7d"
            ],
            [
             0.2,
             "#de77ae"
            ],
            [
             0.3,
             "#f1b6da"
            ],
            [
             0.4,
             "#fde0ef"
            ],
            [
             0.5,
             "#f7f7f7"
            ],
            [
             0.6,
             "#e6f5d0"
            ],
            [
             0.7,
             "#b8e186"
            ],
            [
             0.8,
             "#7fbc41"
            ],
            [
             0.9,
             "#4d9221"
            ],
            [
             1,
             "#276419"
            ]
           ],
           "sequential": [
            [
             0,
             "#0d0887"
            ],
            [
             0.1111111111111111,
             "#46039f"
            ],
            [
             0.2222222222222222,
             "#7201a8"
            ],
            [
             0.3333333333333333,
             "#9c179e"
            ],
            [
             0.4444444444444444,
             "#bd3786"
            ],
            [
             0.5555555555555556,
             "#d8576b"
            ],
            [
             0.6666666666666666,
             "#ed7953"
            ],
            [
             0.7777777777777778,
             "#fb9f3a"
            ],
            [
             0.8888888888888888,
             "#fdca26"
            ],
            [
             1,
             "#f0f921"
            ]
           ],
           "sequentialminus": [
            [
             0,
             "#0d0887"
            ],
            [
             0.1111111111111111,
             "#46039f"
            ],
            [
             0.2222222222222222,
             "#7201a8"
            ],
            [
             0.3333333333333333,
             "#9c179e"
            ],
            [
             0.4444444444444444,
             "#bd3786"
            ],
            [
             0.5555555555555556,
             "#d8576b"
            ],
            [
             0.6666666666666666,
             "#ed7953"
            ],
            [
             0.7777777777777778,
             "#fb9f3a"
            ],
            [
             0.8888888888888888,
             "#fdca26"
            ],
            [
             1,
             "#f0f921"
            ]
           ]
          },
          "colorway": [
           "#636efa",
           "#EF553B",
           "#00cc96",
           "#ab63fa",
           "#FFA15A",
           "#19d3f3",
           "#FF6692",
           "#B6E880",
           "#FF97FF",
           "#FECB52"
          ],
          "font": {
           "color": "#2a3f5f"
          },
          "geo": {
           "bgcolor": "white",
           "lakecolor": "white",
           "landcolor": "#E5ECF6",
           "showlakes": true,
           "showland": true,
           "subunitcolor": "white"
          },
          "hoverlabel": {
           "align": "left"
          },
          "hovermode": "closest",
          "mapbox": {
           "style": "light"
          },
          "paper_bgcolor": "white",
          "plot_bgcolor": "#E5ECF6",
          "polar": {
           "angularaxis": {
            "gridcolor": "white",
            "linecolor": "white",
            "ticks": ""
           },
           "bgcolor": "#E5ECF6",
           "radialaxis": {
            "gridcolor": "white",
            "linecolor": "white",
            "ticks": ""
           }
          },
          "scene": {
           "xaxis": {
            "backgroundcolor": "#E5ECF6",
            "gridcolor": "white",
            "gridwidth": 2,
            "linecolor": "white",
            "showbackground": true,
            "ticks": "",
            "zerolinecolor": "white"
           },
           "yaxis": {
            "backgroundcolor": "#E5ECF6",
            "gridcolor": "white",
            "gridwidth": 2,
            "linecolor": "white",
            "showbackground": true,
            "ticks": "",
            "zerolinecolor": "white"
           },
           "zaxis": {
            "backgroundcolor": "#E5ECF6",
            "gridcolor": "white",
            "gridwidth": 2,
            "linecolor": "white",
            "showbackground": true,
            "ticks": "",
            "zerolinecolor": "white"
           }
          },
          "shapedefaults": {
           "line": {
            "color": "#2a3f5f"
           }
          },
          "ternary": {
           "aaxis": {
            "gridcolor": "white",
            "linecolor": "white",
            "ticks": ""
           },
           "baxis": {
            "gridcolor": "white",
            "linecolor": "white",
            "ticks": ""
           },
           "bgcolor": "#E5ECF6",
           "caxis": {
            "gridcolor": "white",
            "linecolor": "white",
            "ticks": ""
           }
          },
          "title": {
           "x": 0.05
          },
          "xaxis": {
           "automargin": true,
           "gridcolor": "white",
           "linecolor": "white",
           "ticks": "",
           "title": {
            "standoff": 15
           },
           "zerolinecolor": "white",
           "zerolinewidth": 2
          },
          "yaxis": {
           "automargin": true,
           "gridcolor": "white",
           "linecolor": "white",
           "ticks": "",
           "title": {
            "standoff": 15
           },
           "zerolinecolor": "white",
           "zerolinewidth": 2
          }
         }
        },
        "title": {
         "font": {
          "size": 25
         },
         "text": "Títulos do Campeonato Brasileiro por time"
        }
       }
      }
     },
     "metadata": {},
     "output_type": "display_data"
    }
   ],
   "source": [
    "count_campeoes = tabela_times_campeoes.times.value_counts().to_frame()\n",
    "count_campeoes = count_campeoes.reset_index()\\\n",
    "    .rename(columns={'count': 'títulos'})\n",
    "\n",
    "fig = px.treemap(count_campeoes, path = ['times', 'títulos'], values='títulos')\n",
    "\n",
    "fig.update_layout(\n",
    "    title=dict(text=\"Títulos do Campeonato Brasileiro por time\", font=dict(size=25))\n",
    ")\n",
    "\n",
    "fig.show()"
   ]
  },
  {
   "attachments": {},
   "cell_type": "markdown",
   "metadata": {},
   "source": [
    "<a id='melhor-pior'></a>\n",
    "# Melhor e \"pior\" campeão\n"
   ]
  },
  {
   "cell_type": "code",
   "execution_count": 110,
   "metadata": {},
   "outputs": [
    {
     "data": {
      "application/vnd.plotly.v1+json": {
       "config": {
        "plotlyServerURL": "https://plot.ly"
       },
       "data": [
        {
         "hovertemplate": "formato=Formato antigo<br>pontos=%{x}<br>times=%{y}<extra></extra>",
         "legendgroup": "Formato antigo",
         "marker": {
          "color": "crimson",
          "line": {
           "color": "DarkSlateGrey",
           "width": 2
          },
          "size": 12,
          "symbol": "circle"
         },
         "mode": "markers",
         "name": "Formato antigo",
         "opacity": 0.7,
         "orientation": "v",
         "showlegend": true,
         "type": "scatter",
         "x": [
          100,
          89,
          81
         ],
         "xaxis": "x",
         "y": [
          "Cruzeiro",
          "Santos",
          "Corinthians"
         ],
         "yaxis": "y"
        },
        {
         "hovertemplate": "formato=Formato atual<br>pontos=%{x}<br>times=%{y}<extra></extra>",
         "legendgroup": "Formato atual",
         "marker": {
          "color": "MidnightBlue",
          "line": {
           "color": "DarkSlateGrey",
           "width": 2
          },
          "size": 12,
          "symbol": "circle"
         },
         "mode": "markers",
         "name": "Formato atual",
         "opacity": 0.7,
         "orientation": "v",
         "showlegend": true,
         "type": "scatter",
         "x": [
          78,
          77,
          75,
          67,
          71,
          71,
          77,
          76,
          80,
          81,
          80,
          72,
          80,
          90,
          71,
          84,
          81
         ],
         "xaxis": "x",
         "y": [
          "Sao Paulo",
          "Sao Paulo",
          "Sao Paulo",
          "Flamengo",
          "Fluminense",
          "Corinthians",
          "Fluminense",
          "Cruzeiro",
          "Cruzeiro",
          "Corinthians",
          "Palmeiras",
          "Corinthians",
          "Palmeiras",
          "Flamengo",
          "Flamengo",
          "Atletico-MG",
          "Palmeiras"
         ],
         "yaxis": "y"
        }
       ],
       "layout": {
        "annotations": [
         {
          "arrowcolor": "crimson",
          "arrowhead": 6,
          "arrowsize": 2.75,
          "bgcolor": "lightgray",
          "bordercolor": "darkgray",
          "borderpad": 4,
          "borderwidth": 2,
          "showarrow": true,
          "text": "Cruzeiro de 2002",
          "x": 100,
          "y": "Cruzeiro"
         },
         {
          "arrowcolor": "MidnightBlue",
          "arrowhead": 6,
          "arrowsize": 2.75,
          "bgcolor": "lightgray",
          "bordercolor": "darkgray",
          "borderpad": 4,
          "borderwidth": 2,
          "showarrow": true,
          "text": "Flamengo de 2019",
          "x": 90,
          "y": "Flamengo"
         },
         {
          "arrowcolor": "MidnightBlue",
          "arrowhead": 6,
          "arrowsize": 2.75,
          "bgcolor": "lightgray",
          "bordercolor": "darkgray",
          "borderpad": 4,
          "borderwidth": 2,
          "showarrow": true,
          "text": "Flamengo de 2009",
          "x": 67,
          "y": "Flamengo"
         }
        ],
        "legend": {
         "title": {
          "text": "formato"
         },
         "tracegroupgap": 0
        },
        "margin": {
         "t": 60
        },
        "template": {
         "data": {
          "bar": [
           {
            "error_x": {
             "color": "#2a3f5f"
            },
            "error_y": {
             "color": "#2a3f5f"
            },
            "marker": {
             "line": {
              "color": "#E5ECF6",
              "width": 0.5
             },
             "pattern": {
              "fillmode": "overlay",
              "size": 10,
              "solidity": 0.2
             }
            },
            "type": "bar"
           }
          ],
          "barpolar": [
           {
            "marker": {
             "line": {
              "color": "#E5ECF6",
              "width": 0.5
             },
             "pattern": {
              "fillmode": "overlay",
              "size": 10,
              "solidity": 0.2
             }
            },
            "type": "barpolar"
           }
          ],
          "carpet": [
           {
            "aaxis": {
             "endlinecolor": "#2a3f5f",
             "gridcolor": "white",
             "linecolor": "white",
             "minorgridcolor": "white",
             "startlinecolor": "#2a3f5f"
            },
            "baxis": {
             "endlinecolor": "#2a3f5f",
             "gridcolor": "white",
             "linecolor": "white",
             "minorgridcolor": "white",
             "startlinecolor": "#2a3f5f"
            },
            "type": "carpet"
           }
          ],
          "choropleth": [
           {
            "colorbar": {
             "outlinewidth": 0,
             "ticks": ""
            },
            "type": "choropleth"
           }
          ],
          "contour": [
           {
            "colorbar": {
             "outlinewidth": 0,
             "ticks": ""
            },
            "colorscale": [
             [
              0,
              "#0d0887"
             ],
             [
              0.1111111111111111,
              "#46039f"
             ],
             [
              0.2222222222222222,
              "#7201a8"
             ],
             [
              0.3333333333333333,
              "#9c179e"
             ],
             [
              0.4444444444444444,
              "#bd3786"
             ],
             [
              0.5555555555555556,
              "#d8576b"
             ],
             [
              0.6666666666666666,
              "#ed7953"
             ],
             [
              0.7777777777777778,
              "#fb9f3a"
             ],
             [
              0.8888888888888888,
              "#fdca26"
             ],
             [
              1,
              "#f0f921"
             ]
            ],
            "type": "contour"
           }
          ],
          "contourcarpet": [
           {
            "colorbar": {
             "outlinewidth": 0,
             "ticks": ""
            },
            "type": "contourcarpet"
           }
          ],
          "heatmap": [
           {
            "colorbar": {
             "outlinewidth": 0,
             "ticks": ""
            },
            "colorscale": [
             [
              0,
              "#0d0887"
             ],
             [
              0.1111111111111111,
              "#46039f"
             ],
             [
              0.2222222222222222,
              "#7201a8"
             ],
             [
              0.3333333333333333,
              "#9c179e"
             ],
             [
              0.4444444444444444,
              "#bd3786"
             ],
             [
              0.5555555555555556,
              "#d8576b"
             ],
             [
              0.6666666666666666,
              "#ed7953"
             ],
             [
              0.7777777777777778,
              "#fb9f3a"
             ],
             [
              0.8888888888888888,
              "#fdca26"
             ],
             [
              1,
              "#f0f921"
             ]
            ],
            "type": "heatmap"
           }
          ],
          "heatmapgl": [
           {
            "colorbar": {
             "outlinewidth": 0,
             "ticks": ""
            },
            "colorscale": [
             [
              0,
              "#0d0887"
             ],
             [
              0.1111111111111111,
              "#46039f"
             ],
             [
              0.2222222222222222,
              "#7201a8"
             ],
             [
              0.3333333333333333,
              "#9c179e"
             ],
             [
              0.4444444444444444,
              "#bd3786"
             ],
             [
              0.5555555555555556,
              "#d8576b"
             ],
             [
              0.6666666666666666,
              "#ed7953"
             ],
             [
              0.7777777777777778,
              "#fb9f3a"
             ],
             [
              0.8888888888888888,
              "#fdca26"
             ],
             [
              1,
              "#f0f921"
             ]
            ],
            "type": "heatmapgl"
           }
          ],
          "histogram": [
           {
            "marker": {
             "pattern": {
              "fillmode": "overlay",
              "size": 10,
              "solidity": 0.2
             }
            },
            "type": "histogram"
           }
          ],
          "histogram2d": [
           {
            "colorbar": {
             "outlinewidth": 0,
             "ticks": ""
            },
            "colorscale": [
             [
              0,
              "#0d0887"
             ],
             [
              0.1111111111111111,
              "#46039f"
             ],
             [
              0.2222222222222222,
              "#7201a8"
             ],
             [
              0.3333333333333333,
              "#9c179e"
             ],
             [
              0.4444444444444444,
              "#bd3786"
             ],
             [
              0.5555555555555556,
              "#d8576b"
             ],
             [
              0.6666666666666666,
              "#ed7953"
             ],
             [
              0.7777777777777778,
              "#fb9f3a"
             ],
             [
              0.8888888888888888,
              "#fdca26"
             ],
             [
              1,
              "#f0f921"
             ]
            ],
            "type": "histogram2d"
           }
          ],
          "histogram2dcontour": [
           {
            "colorbar": {
             "outlinewidth": 0,
             "ticks": ""
            },
            "colorscale": [
             [
              0,
              "#0d0887"
             ],
             [
              0.1111111111111111,
              "#46039f"
             ],
             [
              0.2222222222222222,
              "#7201a8"
             ],
             [
              0.3333333333333333,
              "#9c179e"
             ],
             [
              0.4444444444444444,
              "#bd3786"
             ],
             [
              0.5555555555555556,
              "#d8576b"
             ],
             [
              0.6666666666666666,
              "#ed7953"
             ],
             [
              0.7777777777777778,
              "#fb9f3a"
             ],
             [
              0.8888888888888888,
              "#fdca26"
             ],
             [
              1,
              "#f0f921"
             ]
            ],
            "type": "histogram2dcontour"
           }
          ],
          "mesh3d": [
           {
            "colorbar": {
             "outlinewidth": 0,
             "ticks": ""
            },
            "type": "mesh3d"
           }
          ],
          "parcoords": [
           {
            "line": {
             "colorbar": {
              "outlinewidth": 0,
              "ticks": ""
             }
            },
            "type": "parcoords"
           }
          ],
          "pie": [
           {
            "automargin": true,
            "type": "pie"
           }
          ],
          "scatter": [
           {
            "fillpattern": {
             "fillmode": "overlay",
             "size": 10,
             "solidity": 0.2
            },
            "type": "scatter"
           }
          ],
          "scatter3d": [
           {
            "line": {
             "colorbar": {
              "outlinewidth": 0,
              "ticks": ""
             }
            },
            "marker": {
             "colorbar": {
              "outlinewidth": 0,
              "ticks": ""
             }
            },
            "type": "scatter3d"
           }
          ],
          "scattercarpet": [
           {
            "marker": {
             "colorbar": {
              "outlinewidth": 0,
              "ticks": ""
             }
            },
            "type": "scattercarpet"
           }
          ],
          "scattergeo": [
           {
            "marker": {
             "colorbar": {
              "outlinewidth": 0,
              "ticks": ""
             }
            },
            "type": "scattergeo"
           }
          ],
          "scattergl": [
           {
            "marker": {
             "colorbar": {
              "outlinewidth": 0,
              "ticks": ""
             }
            },
            "type": "scattergl"
           }
          ],
          "scattermapbox": [
           {
            "marker": {
             "colorbar": {
              "outlinewidth": 0,
              "ticks": ""
             }
            },
            "type": "scattermapbox"
           }
          ],
          "scatterpolar": [
           {
            "marker": {
             "colorbar": {
              "outlinewidth": 0,
              "ticks": ""
             }
            },
            "type": "scatterpolar"
           }
          ],
          "scatterpolargl": [
           {
            "marker": {
             "colorbar": {
              "outlinewidth": 0,
              "ticks": ""
             }
            },
            "type": "scatterpolargl"
           }
          ],
          "scatterternary": [
           {
            "marker": {
             "colorbar": {
              "outlinewidth": 0,
              "ticks": ""
             }
            },
            "type": "scatterternary"
           }
          ],
          "surface": [
           {
            "colorbar": {
             "outlinewidth": 0,
             "ticks": ""
            },
            "colorscale": [
             [
              0,
              "#0d0887"
             ],
             [
              0.1111111111111111,
              "#46039f"
             ],
             [
              0.2222222222222222,
              "#7201a8"
             ],
             [
              0.3333333333333333,
              "#9c179e"
             ],
             [
              0.4444444444444444,
              "#bd3786"
             ],
             [
              0.5555555555555556,
              "#d8576b"
             ],
             [
              0.6666666666666666,
              "#ed7953"
             ],
             [
              0.7777777777777778,
              "#fb9f3a"
             ],
             [
              0.8888888888888888,
              "#fdca26"
             ],
             [
              1,
              "#f0f921"
             ]
            ],
            "type": "surface"
           }
          ],
          "table": [
           {
            "cells": {
             "fill": {
              "color": "#EBF0F8"
             },
             "line": {
              "color": "white"
             }
            },
            "header": {
             "fill": {
              "color": "#C8D4E3"
             },
             "line": {
              "color": "white"
             }
            },
            "type": "table"
           }
          ]
         },
         "layout": {
          "annotationdefaults": {
           "arrowcolor": "#2a3f5f",
           "arrowhead": 0,
           "arrowwidth": 1
          },
          "autotypenumbers": "strict",
          "coloraxis": {
           "colorbar": {
            "outlinewidth": 0,
            "ticks": ""
           }
          },
          "colorscale": {
           "diverging": [
            [
             0,
             "#8e0152"
            ],
            [
             0.1,
             "#c51b7d"
            ],
            [
             0.2,
             "#de77ae"
            ],
            [
             0.3,
             "#f1b6da"
            ],
            [
             0.4,
             "#fde0ef"
            ],
            [
             0.5,
             "#f7f7f7"
            ],
            [
             0.6,
             "#e6f5d0"
            ],
            [
             0.7,
             "#b8e186"
            ],
            [
             0.8,
             "#7fbc41"
            ],
            [
             0.9,
             "#4d9221"
            ],
            [
             1,
             "#276419"
            ]
           ],
           "sequential": [
            [
             0,
             "#0d0887"
            ],
            [
             0.1111111111111111,
             "#46039f"
            ],
            [
             0.2222222222222222,
             "#7201a8"
            ],
            [
             0.3333333333333333,
             "#9c179e"
            ],
            [
             0.4444444444444444,
             "#bd3786"
            ],
            [
             0.5555555555555556,
             "#d8576b"
            ],
            [
             0.6666666666666666,
             "#ed7953"
            ],
            [
             0.7777777777777778,
             "#fb9f3a"
            ],
            [
             0.8888888888888888,
             "#fdca26"
            ],
            [
             1,
             "#f0f921"
            ]
           ],
           "sequentialminus": [
            [
             0,
             "#0d0887"
            ],
            [
             0.1111111111111111,
             "#46039f"
            ],
            [
             0.2222222222222222,
             "#7201a8"
            ],
            [
             0.3333333333333333,
             "#9c179e"
            ],
            [
             0.4444444444444444,
             "#bd3786"
            ],
            [
             0.5555555555555556,
             "#d8576b"
            ],
            [
             0.6666666666666666,
             "#ed7953"
            ],
            [
             0.7777777777777778,
             "#fb9f3a"
            ],
            [
             0.8888888888888888,
             "#fdca26"
            ],
            [
             1,
             "#f0f921"
            ]
           ]
          },
          "colorway": [
           "#636efa",
           "#EF553B",
           "#00cc96",
           "#ab63fa",
           "#FFA15A",
           "#19d3f3",
           "#FF6692",
           "#B6E880",
           "#FF97FF",
           "#FECB52"
          ],
          "font": {
           "color": "#2a3f5f"
          },
          "geo": {
           "bgcolor": "white",
           "lakecolor": "white",
           "landcolor": "#E5ECF6",
           "showlakes": true,
           "showland": true,
           "subunitcolor": "white"
          },
          "hoverlabel": {
           "align": "left"
          },
          "hovermode": "closest",
          "mapbox": {
           "style": "light"
          },
          "paper_bgcolor": "white",
          "plot_bgcolor": "#E5ECF6",
          "polar": {
           "angularaxis": {
            "gridcolor": "white",
            "linecolor": "white",
            "ticks": ""
           },
           "bgcolor": "#E5ECF6",
           "radialaxis": {
            "gridcolor": "white",
            "linecolor": "white",
            "ticks": ""
           }
          },
          "scene": {
           "xaxis": {
            "backgroundcolor": "#E5ECF6",
            "gridcolor": "white",
            "gridwidth": 2,
            "linecolor": "white",
            "showbackground": true,
            "ticks": "",
            "zerolinecolor": "white"
           },
           "yaxis": {
            "backgroundcolor": "#E5ECF6",
            "gridcolor": "white",
            "gridwidth": 2,
            "linecolor": "white",
            "showbackground": true,
            "ticks": "",
            "zerolinecolor": "white"
           },
           "zaxis": {
            "backgroundcolor": "#E5ECF6",
            "gridcolor": "white",
            "gridwidth": 2,
            "linecolor": "white",
            "showbackground": true,
            "ticks": "",
            "zerolinecolor": "white"
           }
          },
          "shapedefaults": {
           "line": {
            "color": "#2a3f5f"
           }
          },
          "ternary": {
           "aaxis": {
            "gridcolor": "white",
            "linecolor": "white",
            "ticks": ""
           },
           "baxis": {
            "gridcolor": "white",
            "linecolor": "white",
            "ticks": ""
           },
           "bgcolor": "#E5ECF6",
           "caxis": {
            "gridcolor": "white",
            "linecolor": "white",
            "ticks": ""
           }
          },
          "title": {
           "x": 0.05
          },
          "xaxis": {
           "automargin": true,
           "gridcolor": "white",
           "linecolor": "white",
           "ticks": "",
           "title": {
            "standoff": 15
           },
           "zerolinecolor": "white",
           "zerolinewidth": 2
          },
          "yaxis": {
           "automargin": true,
           "gridcolor": "white",
           "linecolor": "white",
           "ticks": "",
           "title": {
            "standoff": 15
           },
           "zerolinecolor": "white",
           "zerolinewidth": 2
          }
         }
        },
        "title": {
         "font": {
          "size": 25
         },
         "text": "Pontuação final de cada Campeão Brasileiro"
        },
        "xaxis": {
         "anchor": "y",
         "domain": [
          0,
          1
         ],
         "title": {
          "text": "pontos"
         }
        },
        "yaxis": {
         "anchor": "x",
         "domain": [
          0,
          1
         ],
         "title": {
          "text": "times"
         }
        }
       }
      }
     },
     "metadata": {},
     "output_type": "display_data"
    }
   ],
   "source": [
    "fig = px.scatter(tabela_times_campeoes, \n",
    "                 x = 'pontos', \n",
    "                 y = 'times', \n",
    "                 color = 'formato',\n",
    "                 color_discrete_sequence=['crimson', 'MidnightBlue'])\n",
    "\n",
    "fig.update_traces(marker=dict(size=12, \n",
    "                              line=dict(width=2, \n",
    "                                        color='DarkSlateGrey')),\n",
    "                  selector=dict(mode='markers'),\n",
    "                  opacity = 0.70)\n",
    "\n",
    "fig.update_layout(title=dict(text=\"Pontuação final de cada Campeão Brasileiro\", \n",
    "                             font=dict(size=25)))\n",
    "\n",
    "fig.add_annotation(x=100, \n",
    "                   y='Cruzeiro', \n",
    "                   text=\"Cruzeiro de 2002\",\n",
    "                   showarrow=True,\n",
    "                   arrowhead=6,\n",
    "                   bordercolor=\"darkgray\",\n",
    "                   borderwidth=2,\n",
    "                   borderpad=4,\n",
    "                   bgcolor=\"lightgray\",\n",
    "                   arrowsize= 2.75,\n",
    "                   arrowcolor='crimson') \n",
    "\n",
    "fig.add_annotation(x=90, \n",
    "                   y='Flamengo', \n",
    "                   text=\"Flamengo de 2019\",\n",
    "                   showarrow=True,\n",
    "                   arrowhead=6,\n",
    "                   bordercolor=\"darkgray\",\n",
    "                   borderwidth=2,\n",
    "                   borderpad=4,\n",
    "                   bgcolor=\"lightgray\",\n",
    "                   arrowsize= 2.75,\n",
    "                   arrowcolor='MidnightBlue')\n",
    "\n",
    "fig.add_annotation(x=67, \n",
    "                   y='Flamengo', \n",
    "                   text=\"Flamengo de 2009\",\n",
    "                   showarrow=True,\n",
    "                   arrowhead=6,\n",
    "                   bordercolor=\"darkgray\",\n",
    "                   borderwidth=2,\n",
    "                   borderpad=4,\n",
    "                   bgcolor=\"lightgray\",\n",
    "                   arrowsize= 2.75,\n",
    "                   arrowcolor='MidnightBlue')\n"
   ]
  },
  {
   "attachments": {},
   "cell_type": "markdown",
   "metadata": {},
   "source": [
    "<a id='ano-competitivo'></a>\n",
    "# Competitividade durante os anos"
   ]
  },
  {
   "cell_type": "code",
   "execution_count": 122,
   "metadata": {},
   "outputs": [
    {
     "data": {
      "application/vnd.plotly.v1+json": {
       "config": {
        "plotlyServerURL": "https://plot.ly"
       },
       "data": [
        {
         "hovertemplate": "ano=%{x}<br>distancia_segundo_colocado=%{text}<extra></extra>",
         "legendgroup": "",
         "line": {
          "color": "#636efa",
          "dash": "solid"
         },
         "marker": {
          "symbol": "circle"
         },
         "mode": "lines+markers+text",
         "name": "",
         "orientation": "v",
         "showlegend": false,
         "text": [
          13,
          3,
          3,
          9,
          15,
          3,
          2,
          2,
          2,
          5,
          11,
          10,
          12,
          9,
          9,
          8,
          16,
          1,
          13,
          8
         ],
         "textposition": "bottom left",
         "type": "scatter",
         "x": [
          2003,
          2004,
          2005,
          2006,
          2007,
          2008,
          2009,
          2010,
          2011,
          2012,
          2013,
          2014,
          2015,
          2016,
          2017,
          2018,
          2019,
          2020,
          2021,
          2022
         ],
         "xaxis": "x",
         "y": [
          13,
          3,
          3,
          9,
          15,
          3,
          2,
          2,
          2,
          5,
          11,
          10,
          12,
          9,
          9,
          8,
          16,
          1,
          13,
          8
         ],
         "yaxis": "y"
        }
       ],
       "layout": {
        "legend": {
         "tracegroupgap": 0
        },
        "margin": {
         "t": 60
        },
        "template": {
         "data": {
          "bar": [
           {
            "error_x": {
             "color": "#2a3f5f"
            },
            "error_y": {
             "color": "#2a3f5f"
            },
            "marker": {
             "line": {
              "color": "#E5ECF6",
              "width": 0.5
             },
             "pattern": {
              "fillmode": "overlay",
              "size": 10,
              "solidity": 0.2
             }
            },
            "type": "bar"
           }
          ],
          "barpolar": [
           {
            "marker": {
             "line": {
              "color": "#E5ECF6",
              "width": 0.5
             },
             "pattern": {
              "fillmode": "overlay",
              "size": 10,
              "solidity": 0.2
             }
            },
            "type": "barpolar"
           }
          ],
          "carpet": [
           {
            "aaxis": {
             "endlinecolor": "#2a3f5f",
             "gridcolor": "white",
             "linecolor": "white",
             "minorgridcolor": "white",
             "startlinecolor": "#2a3f5f"
            },
            "baxis": {
             "endlinecolor": "#2a3f5f",
             "gridcolor": "white",
             "linecolor": "white",
             "minorgridcolor": "white",
             "startlinecolor": "#2a3f5f"
            },
            "type": "carpet"
           }
          ],
          "choropleth": [
           {
            "colorbar": {
             "outlinewidth": 0,
             "ticks": ""
            },
            "type": "choropleth"
           }
          ],
          "contour": [
           {
            "colorbar": {
             "outlinewidth": 0,
             "ticks": ""
            },
            "colorscale": [
             [
              0,
              "#0d0887"
             ],
             [
              0.1111111111111111,
              "#46039f"
             ],
             [
              0.2222222222222222,
              "#7201a8"
             ],
             [
              0.3333333333333333,
              "#9c179e"
             ],
             [
              0.4444444444444444,
              "#bd3786"
             ],
             [
              0.5555555555555556,
              "#d8576b"
             ],
             [
              0.6666666666666666,
              "#ed7953"
             ],
             [
              0.7777777777777778,
              "#fb9f3a"
             ],
             [
              0.8888888888888888,
              "#fdca26"
             ],
             [
              1,
              "#f0f921"
             ]
            ],
            "type": "contour"
           }
          ],
          "contourcarpet": [
           {
            "colorbar": {
             "outlinewidth": 0,
             "ticks": ""
            },
            "type": "contourcarpet"
           }
          ],
          "heatmap": [
           {
            "colorbar": {
             "outlinewidth": 0,
             "ticks": ""
            },
            "colorscale": [
             [
              0,
              "#0d0887"
             ],
             [
              0.1111111111111111,
              "#46039f"
             ],
             [
              0.2222222222222222,
              "#7201a8"
             ],
             [
              0.3333333333333333,
              "#9c179e"
             ],
             [
              0.4444444444444444,
              "#bd3786"
             ],
             [
              0.5555555555555556,
              "#d8576b"
             ],
             [
              0.6666666666666666,
              "#ed7953"
             ],
             [
              0.7777777777777778,
              "#fb9f3a"
             ],
             [
              0.8888888888888888,
              "#fdca26"
             ],
             [
              1,
              "#f0f921"
             ]
            ],
            "type": "heatmap"
           }
          ],
          "heatmapgl": [
           {
            "colorbar": {
             "outlinewidth": 0,
             "ticks": ""
            },
            "colorscale": [
             [
              0,
              "#0d0887"
             ],
             [
              0.1111111111111111,
              "#46039f"
             ],
             [
              0.2222222222222222,
              "#7201a8"
             ],
             [
              0.3333333333333333,
              "#9c179e"
             ],
             [
              0.4444444444444444,
              "#bd3786"
             ],
             [
              0.5555555555555556,
              "#d8576b"
             ],
             [
              0.6666666666666666,
              "#ed7953"
             ],
             [
              0.7777777777777778,
              "#fb9f3a"
             ],
             [
              0.8888888888888888,
              "#fdca26"
             ],
             [
              1,
              "#f0f921"
             ]
            ],
            "type": "heatmapgl"
           }
          ],
          "histogram": [
           {
            "marker": {
             "pattern": {
              "fillmode": "overlay",
              "size": 10,
              "solidity": 0.2
             }
            },
            "type": "histogram"
           }
          ],
          "histogram2d": [
           {
            "colorbar": {
             "outlinewidth": 0,
             "ticks": ""
            },
            "colorscale": [
             [
              0,
              "#0d0887"
             ],
             [
              0.1111111111111111,
              "#46039f"
             ],
             [
              0.2222222222222222,
              "#7201a8"
             ],
             [
              0.3333333333333333,
              "#9c179e"
             ],
             [
              0.4444444444444444,
              "#bd3786"
             ],
             [
              0.5555555555555556,
              "#d8576b"
             ],
             [
              0.6666666666666666,
              "#ed7953"
             ],
             [
              0.7777777777777778,
              "#fb9f3a"
             ],
             [
              0.8888888888888888,
              "#fdca26"
             ],
             [
              1,
              "#f0f921"
             ]
            ],
            "type": "histogram2d"
           }
          ],
          "histogram2dcontour": [
           {
            "colorbar": {
             "outlinewidth": 0,
             "ticks": ""
            },
            "colorscale": [
             [
              0,
              "#0d0887"
             ],
             [
              0.1111111111111111,
              "#46039f"
             ],
             [
              0.2222222222222222,
              "#7201a8"
             ],
             [
              0.3333333333333333,
              "#9c179e"
             ],
             [
              0.4444444444444444,
              "#bd3786"
             ],
             [
              0.5555555555555556,
              "#d8576b"
             ],
             [
              0.6666666666666666,
              "#ed7953"
             ],
             [
              0.7777777777777778,
              "#fb9f3a"
             ],
             [
              0.8888888888888888,
              "#fdca26"
             ],
             [
              1,
              "#f0f921"
             ]
            ],
            "type": "histogram2dcontour"
           }
          ],
          "mesh3d": [
           {
            "colorbar": {
             "outlinewidth": 0,
             "ticks": ""
            },
            "type": "mesh3d"
           }
          ],
          "parcoords": [
           {
            "line": {
             "colorbar": {
              "outlinewidth": 0,
              "ticks": ""
             }
            },
            "type": "parcoords"
           }
          ],
          "pie": [
           {
            "automargin": true,
            "type": "pie"
           }
          ],
          "scatter": [
           {
            "fillpattern": {
             "fillmode": "overlay",
             "size": 10,
             "solidity": 0.2
            },
            "type": "scatter"
           }
          ],
          "scatter3d": [
           {
            "line": {
             "colorbar": {
              "outlinewidth": 0,
              "ticks": ""
             }
            },
            "marker": {
             "colorbar": {
              "outlinewidth": 0,
              "ticks": ""
             }
            },
            "type": "scatter3d"
           }
          ],
          "scattercarpet": [
           {
            "marker": {
             "colorbar": {
              "outlinewidth": 0,
              "ticks": ""
             }
            },
            "type": "scattercarpet"
           }
          ],
          "scattergeo": [
           {
            "marker": {
             "colorbar": {
              "outlinewidth": 0,
              "ticks": ""
             }
            },
            "type": "scattergeo"
           }
          ],
          "scattergl": [
           {
            "marker": {
             "colorbar": {
              "outlinewidth": 0,
              "ticks": ""
             }
            },
            "type": "scattergl"
           }
          ],
          "scattermapbox": [
           {
            "marker": {
             "colorbar": {
              "outlinewidth": 0,
              "ticks": ""
             }
            },
            "type": "scattermapbox"
           }
          ],
          "scatterpolar": [
           {
            "marker": {
             "colorbar": {
              "outlinewidth": 0,
              "ticks": ""
             }
            },
            "type": "scatterpolar"
           }
          ],
          "scatterpolargl": [
           {
            "marker": {
             "colorbar": {
              "outlinewidth": 0,
              "ticks": ""
             }
            },
            "type": "scatterpolargl"
           }
          ],
          "scatterternary": [
           {
            "marker": {
             "colorbar": {
              "outlinewidth": 0,
              "ticks": ""
             }
            },
            "type": "scatterternary"
           }
          ],
          "surface": [
           {
            "colorbar": {
             "outlinewidth": 0,
             "ticks": ""
            },
            "colorscale": [
             [
              0,
              "#0d0887"
             ],
             [
              0.1111111111111111,
              "#46039f"
             ],
             [
              0.2222222222222222,
              "#7201a8"
             ],
             [
              0.3333333333333333,
              "#9c179e"
             ],
             [
              0.4444444444444444,
              "#bd3786"
             ],
             [
              0.5555555555555556,
              "#d8576b"
             ],
             [
              0.6666666666666666,
              "#ed7953"
             ],
             [
              0.7777777777777778,
              "#fb9f3a"
             ],
             [
              0.8888888888888888,
              "#fdca26"
             ],
             [
              1,
              "#f0f921"
             ]
            ],
            "type": "surface"
           }
          ],
          "table": [
           {
            "cells": {
             "fill": {
              "color": "#EBF0F8"
             },
             "line": {
              "color": "white"
             }
            },
            "header": {
             "fill": {
              "color": "#C8D4E3"
             },
             "line": {
              "color": "white"
             }
            },
            "type": "table"
           }
          ]
         },
         "layout": {
          "annotationdefaults": {
           "arrowcolor": "#2a3f5f",
           "arrowhead": 0,
           "arrowwidth": 1
          },
          "autotypenumbers": "strict",
          "coloraxis": {
           "colorbar": {
            "outlinewidth": 0,
            "ticks": ""
           }
          },
          "colorscale": {
           "diverging": [
            [
             0,
             "#8e0152"
            ],
            [
             0.1,
             "#c51b7d"
            ],
            [
             0.2,
             "#de77ae"
            ],
            [
             0.3,
             "#f1b6da"
            ],
            [
             0.4,
             "#fde0ef"
            ],
            [
             0.5,
             "#f7f7f7"
            ],
            [
             0.6,
             "#e6f5d0"
            ],
            [
             0.7,
             "#b8e186"
            ],
            [
             0.8,
             "#7fbc41"
            ],
            [
             0.9,
             "#4d9221"
            ],
            [
             1,
             "#276419"
            ]
           ],
           "sequential": [
            [
             0,
             "#0d0887"
            ],
            [
             0.1111111111111111,
             "#46039f"
            ],
            [
             0.2222222222222222,
             "#7201a8"
            ],
            [
             0.3333333333333333,
             "#9c179e"
            ],
            [
             0.4444444444444444,
             "#bd3786"
            ],
            [
             0.5555555555555556,
             "#d8576b"
            ],
            [
             0.6666666666666666,
             "#ed7953"
            ],
            [
             0.7777777777777778,
             "#fb9f3a"
            ],
            [
             0.8888888888888888,
             "#fdca26"
            ],
            [
             1,
             "#f0f921"
            ]
           ],
           "sequentialminus": [
            [
             0,
             "#0d0887"
            ],
            [
             0.1111111111111111,
             "#46039f"
            ],
            [
             0.2222222222222222,
             "#7201a8"
            ],
            [
             0.3333333333333333,
             "#9c179e"
            ],
            [
             0.4444444444444444,
             "#bd3786"
            ],
            [
             0.5555555555555556,
             "#d8576b"
            ],
            [
             0.6666666666666666,
             "#ed7953"
            ],
            [
             0.7777777777777778,
             "#fb9f3a"
            ],
            [
             0.8888888888888888,
             "#fdca26"
            ],
            [
             1,
             "#f0f921"
            ]
           ]
          },
          "colorway": [
           "#636efa",
           "#EF553B",
           "#00cc96",
           "#ab63fa",
           "#FFA15A",
           "#19d3f3",
           "#FF6692",
           "#B6E880",
           "#FF97FF",
           "#FECB52"
          ],
          "font": {
           "color": "#2a3f5f"
          },
          "geo": {
           "bgcolor": "white",
           "lakecolor": "white",
           "landcolor": "#E5ECF6",
           "showlakes": true,
           "showland": true,
           "subunitcolor": "white"
          },
          "hoverlabel": {
           "align": "left"
          },
          "hovermode": "closest",
          "mapbox": {
           "style": "light"
          },
          "paper_bgcolor": "white",
          "plot_bgcolor": "#E5ECF6",
          "polar": {
           "angularaxis": {
            "gridcolor": "white",
            "linecolor": "white",
            "ticks": ""
           },
           "bgcolor": "#E5ECF6",
           "radialaxis": {
            "gridcolor": "white",
            "linecolor": "white",
            "ticks": ""
           }
          },
          "scene": {
           "xaxis": {
            "backgroundcolor": "#E5ECF6",
            "gridcolor": "white",
            "gridwidth": 2,
            "linecolor": "white",
            "showbackground": true,
            "ticks": "",
            "zerolinecolor": "white"
           },
           "yaxis": {
            "backgroundcolor": "#E5ECF6",
            "gridcolor": "white",
            "gridwidth": 2,
            "linecolor": "white",
            "showbackground": true,
            "ticks": "",
            "zerolinecolor": "white"
           },
           "zaxis": {
            "backgroundcolor": "#E5ECF6",
            "gridcolor": "white",
            "gridwidth": 2,
            "linecolor": "white",
            "showbackground": true,
            "ticks": "",
            "zerolinecolor": "white"
           }
          },
          "shapedefaults": {
           "line": {
            "color": "#2a3f5f"
           }
          },
          "ternary": {
           "aaxis": {
            "gridcolor": "white",
            "linecolor": "white",
            "ticks": ""
           },
           "baxis": {
            "gridcolor": "white",
            "linecolor": "white",
            "ticks": ""
           },
           "bgcolor": "#E5ECF6",
           "caxis": {
            "gridcolor": "white",
            "linecolor": "white",
            "ticks": ""
           }
          },
          "title": {
           "x": 0.05
          },
          "xaxis": {
           "automargin": true,
           "gridcolor": "white",
           "linecolor": "white",
           "ticks": "",
           "title": {
            "standoff": 15
           },
           "zerolinecolor": "white",
           "zerolinewidth": 2
          },
          "yaxis": {
           "automargin": true,
           "gridcolor": "white",
           "linecolor": "white",
           "ticks": "",
           "title": {
            "standoff": 15
           },
           "zerolinecolor": "white",
           "zerolinewidth": 2
          }
         }
        },
        "title": {
         "font": {
          "size": 25
         },
         "text": "Diferença de pontos entre o primeiro e segundo colocado"
        },
        "xaxis": {
         "anchor": "y",
         "domain": [
          0,
          1
         ],
         "title": {
          "text": "ano"
         }
        },
        "yaxis": {
         "anchor": "x",
         "domain": [
          0,
          1
         ],
         "title": {
          "text": "distancia_segundo_colocado"
         }
        }
       }
      }
     },
     "metadata": {},
     "output_type": "display_data"
    }
   ],
   "source": [
    "fig = px.line(tabela_times_campeoes, x='ano', \n",
    "              y = 'distancia_segundo_colocado',\n",
    "              text='distancia_segundo_colocado')\n",
    "\n",
    "fig.update_traces(textposition=\"bottom left\")\n",
    "\n",
    "fig.update_layout(title=dict(text=\"Diferença de pontos entre o primeiro e segundo colocado\", \n",
    "                             font=dict(size=25)))"
   ]
  }
 ],
 "metadata": {
  "kernelspec": {
   "display_name": "venv",
   "language": "python",
   "name": "python3"
  },
  "language_info": {
   "codemirror_mode": {
    "name": "ipython",
    "version": 3
   },
   "file_extension": ".py",
   "mimetype": "text/x-python",
   "name": "python",
   "nbconvert_exporter": "python",
   "pygments_lexer": "ipython3",
   "version": "3.10.6"
  },
  "orig_nbformat": 4
 },
 "nbformat": 4,
 "nbformat_minor": 2
}
