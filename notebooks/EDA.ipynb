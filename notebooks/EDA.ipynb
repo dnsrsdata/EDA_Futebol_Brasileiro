{
 "cells": [
  {
   "attachments": {},
   "cell_type": "markdown",
   "metadata": {},
   "source": [
    "# Brasileirão Série A: O caminho dos campeões\n",
    "Por [Daniel Soares](https://www.linkedin.com/in/daniel-soares-ti/)"
   ]
  },
  {
   "attachments": {},
   "cell_type": "markdown",
   "metadata": {},
   "source": [
    "\n",
    "<div style=\"display:inline-block;vertical-align:top;\">\n",
    "<h2>Sumário:</h2>\n",
    "<ul>\n",
    "    <li><a href=\"#introducao\">Introdução </a></li>\n",
    "    <li><a href=\"#maior-campeao\">Maiores campeões</a></li>\n",
    "    <li><a href=\"#responsabilidade\">Melhor e \"pior\" campeão</a></li>\n",
    "    <li><a href=\"#tecnicas_metodos\">Ano mais competitivo</a></li>\n",
    "    <li><a href=\"#tecnicas_metodos\">Ano mais tranquilo</a></li>\n",
    "    <li><a href=\"#tecnicas_metodos\">Dominância? Houve anos consecutivos, times que dominaram certo período?</a></li>\n",
    "\n",
    "</ul>\n",
    "</div>\n",
    "<div style=\"display:inline-block; margin-left:50px; margin-top:15px\">\n",
    "<img src=\"https://media.giphy.com/media/xUOxf1JRLpx5wy7UyY/giphy.gif\" style=\"height: 250px; width:400px;\"/>\n",
    "    <div style=\"text-align:center; font-size:12px\"><i>Fonte: <a href=\"https://media.giphy.com/media/xUOxf1JRLpx5wy7UyY/giphy.gif\">Giphy</a></i></div>\n",
    "</div>\n",
    "\n",
    "--------\n"
   ]
  },
  {
   "cell_type": "code",
   "execution_count": 1,
   "metadata": {},
   "outputs": [],
   "source": [
    "import pandas as pd\n",
    "import plotly.express as px\n",
    "\n",
    "# Lendo os dados\n",
    "games_data = pd.read_csv('../data/campeonato-brasileiro-full.csv')"
   ]
  },
  {
   "cell_type": "code",
   "execution_count": null,
   "metadata": {},
   "outputs": [],
   "source": [
    "def corrigir_indexes_e_colunas_tabela(dataframe):\n",
    "    \"\"\"Corrige indexes e colunas do dataframe\n",
    "\n",
    "    Args:\n",
    "        dataframe (pd.Dataframe): Dataframe com os jogos\n",
    "\n",
    "    Returns:\n",
    "        pd.Dataframe: Dataframe com os indexes e colunas corrigidos\n",
    "    \"\"\"\n",
    "    dataframe = dataframe.reset_index()\n",
    "    dataframe = dataframe.set_index(pd.Index(range(1, 21)))\n",
    "    dataframe = dataframe.rename(columns={'vencedor': 'times', 'count': 'pontos'})\n",
    "    \n",
    "    return dataframe\n",
    "\n",
    "def calcular_pontos_de_vitoria(dataframe_original, ano):\n",
    "    \"\"\"Calcula a pontuação inicial dos times com base em suas vitórias\n",
    "\n",
    "    Args:\n",
    "        dataframe_original (pd.Dataframe): Dataframe com os jogos\n",
    "        ano (int): ano do campeonato\n",
    "\n",
    "    Returns:\n",
    "        pd.Dataframe: Dataframe com os pontos iniciais calculados\n",
    "    \"\"\"\n",
    "    tabela_campeonato = dataframe_original.query(f'ano == {ano}').vencedor\\\n",
    "        .value_counts()[1:].to_frame()\n",
    "    tabela_campeonato = tabela_campeonato * 3\n",
    "    \n",
    "    return tabela_campeonato\n",
    "\n",
    "def adicionar_pontos_empate(dataframe_original, dataframe_pontos, ano):\n",
    "    \"\"\"Adiciona pontos para os jogos que terminaram empatados\n",
    "\n",
    "    Args:\n",
    "        dataframe (pd.Dataframe): dataframe com os jogos\n",
    "        dataframe_pontos (pd.Dataframe): dataframe com os pontos iniciais\n",
    "        ano (int): ano do campeonato\n",
    "\n",
    "    Returns:\n",
    "        pd.Dataframe: dataframe com os pontos de empate inseridos\n",
    "    \"\"\"\n",
    "    for time in dataframe_original.query(f\"ano == {ano} and vencedor =='-'\")\\\n",
    "        .mandante:\n",
    "        dataframe_pontos.loc[time] = dataframe_pontos.loc[time] + 1\n",
    "        \n",
    "    for time in dataframe_original.query(f\"ano == {ano} and vencedor =='-'\")\\\n",
    "        .visitante:\n",
    "        dataframe_pontos.loc[time] = dataframe_pontos.loc[time] + 1\n",
    "    \n",
    "    return dataframe_pontos"
   ]
  },
  {
   "attachments": {},
   "cell_type": "markdown",
   "metadata": {},
   "source": [
    "<a id='introducao'></a>\n",
    "# Introdução\n",
    "\"O Brasileirão é o campeonato mais difícil do mundo\". Essa é uma frase que você \n",
    "provavelmente já escutou na rua, e que vem provando ser verdadeira. A Federação \n",
    "Internacional de História e Estatísticas do Futebol (IFFHS), organização \n",
    "reconhecida pela FIFA, [publicou](https://www.iffhs.com/posts/2483) no início de \n",
    "2023 um ranking de campeonatos nacionais, e levando em conta fatores como força \n",
    "dos concorrentes e conquistas dos times na temporada, coroou o Brasileirão como \n",
    "o mais difícil do mundo pelo segundo ano consecutivo.\n",
    "\n",
    "Diante disso, chegamos a uma pergunta: Qual o caminho dos campeões? O que um time\n",
    "precisa para conquistar o atual campeonato mais difícil do planeta?\n",
    "\n",
    "<div class=\"alert alert-warning\" role=\"alert\">\n",
    "    <b>Aviso!</b> Os campeonatos de 2003, 2004 e 2005, por possuírem um número \n",
    "    maior de rodadas, serão desconsiderados nesta análise. Entretanto, tais \n",
    "    campeonatos poderão ser citados.\n",
    "</div>"
   ]
  },
  {
   "cell_type": "code",
   "execution_count": 3,
   "metadata": {},
   "outputs": [],
   "source": [
    "# Para evitar problemas quando for plotar os gráficos, vou alterar o dtype\n",
    "# das colunas que necessitam\n",
    "games_data['data'] = pd.to_datetime(games_data['data'], dayfirst=True)\n",
    "games_data['hora'] = pd.to_datetime(games_data['hora'], format='%H:%M').dt.time\n",
    "\n",
    "# Para separar os campeonatos por ano, irei criar uma coluna com o ano \n",
    "# de cada jogo\n",
    "games_data['ano'] = games_data['data'].dt.year"
   ]
  },
  {
   "cell_type": "code",
   "execution_count": 4,
   "metadata": {},
   "outputs": [
    {
     "data": {
      "text/plain": [
       "ano\n",
       "2003    46\n",
       "2004    46\n",
       "2005    42\n",
       "2006    38\n",
       "2007    38\n",
       "2008    38\n",
       "2009    38\n",
       "2010    38\n",
       "2011    38\n",
       "2012    38\n",
       "2013    38\n",
       "2014    38\n",
       "2015    38\n",
       "2016    38\n",
       "2017    38\n",
       "2018    38\n",
       "2019    38\n",
       "2020    27\n",
       "2021    38\n",
       "2022    38\n",
       "Name: rodata, dtype: int64"
      ]
     },
     "execution_count": 4,
     "metadata": {},
     "output_type": "execute_result"
    }
   ],
   "source": [
    "# Verificando se a quantidade de rodadas está correta\n",
    "games_data.groupby('ano').rodata.nunique()"
   ]
  },
  {
   "cell_type": "code",
   "execution_count": 25,
   "metadata": {},
   "outputs": [],
   "source": [
    "# Para gerar as classificações de forma correta, terei que separar os anos\n",
    "# que tiveram punições e os que não tiveram para então usar as funções\n",
    "anos_sem_punicao = [2006, 2007, 2008, 2009, 2011, 2012, 2014, 2015, 2017, 2019, \n",
    "                    2020, 2021, 2022]\n",
    "\n",
    "anos_com_punicao = [2010, 2013, 2018]\n",
    "\n",
    "classificacao = {}\n",
    "\n",
    "for ano in anos_sem_punicao:\n",
    "    classificacao[ano] = calcular_pontos_de_vitoria(games_data,\n",
    "                                                     ano)\n",
    "    \n",
    "    classificacao[ano] = adicionar_pontos_empate(games_data, \n",
    "                                                  classificacao[ano],\n",
    "                                                  ano)\n",
    "    \n",
    "    classificacao[ano] = classificacao[ano].sort_values(by='count',\n",
    "                                                          ascending=False)\n",
    "    \n",
    "    #classificacao[ano] = corrigir_indexes_e_colunas_tabela(classificacao[ano])\n",
    "    \n",
    "    "
   ]
  },
  {
   "cell_type": "code",
   "execution_count": null,
   "metadata": {},
   "outputs": [],
   "source": [
    "# Reordenar o ano de 2017 para corrigir os clubes rebaixados\n",
    "# O ano de 2020 possui rodadas em 2021"
   ]
  },
  {
   "attachments": {},
   "cell_type": "markdown",
   "metadata": {},
   "source": [
    "<a id='maior-campeao'></a>\n",
    "# Maiores campeões\n"
   ]
  },
  {
   "cell_type": "code",
   "execution_count": 6,
   "metadata": {},
   "outputs": [],
   "source": [
    "tabela_2006 = calcular_pontos_de_vitoria(games_data, 2006)\n",
    "tabela_2006 = adicionar_pontos_empate(games_data, tabela_2006, 2006)\n",
    "tabela_2006 = tabela_2006.sort_values(by='count', ascending=False)\n",
    "tabela_2006 = corrigir_indexes_e_colunas_tabela(tabela_2006)"
   ]
  }
 ],
 "metadata": {
  "kernelspec": {
   "display_name": "venv",
   "language": "python",
   "name": "python3"
  },
  "language_info": {
   "codemirror_mode": {
    "name": "ipython",
    "version": 3
   },
   "file_extension": ".py",
   "mimetype": "text/x-python",
   "name": "python",
   "nbconvert_exporter": "python",
   "pygments_lexer": "ipython3",
   "version": "3.10.6"
  },
  "orig_nbformat": 4
 },
 "nbformat": 4,
 "nbformat_minor": 2
}
